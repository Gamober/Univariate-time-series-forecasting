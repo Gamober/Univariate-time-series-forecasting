{
 "cells": [
  {
   "cell_type": "code",
   "execution_count": 2,
   "id": "53f2845c",
   "metadata": {},
   "outputs": [],
   "source": [
    "import numpy as np\n",
    "import pandas as pd\n",
    "from datetime import datetime\n",
    "import matplotlib.pyplot as plt\n",
    "from    torch import nn, optim\n",
    "np.set_printoptions(threshold=np.inf)#不使用科学计数法"
   ]
  },
  {
   "cell_type": "code",
   "execution_count": 3,
   "id": "d67f4489",
   "metadata": {},
   "outputs": [],
   "source": [
    "df = pd.read_csv('./airline_passengers.csv',index_col=0)"
   ]
  },
  {
   "cell_type": "code",
   "execution_count": 4,
   "id": "f43350c8",
   "metadata": {},
   "outputs": [],
   "source": [
    "dates = pd.date_range('1949-01-01','1960-12-01',freq='MS')"
   ]
  },
  {
   "cell_type": "code",
   "execution_count": 5,
   "id": "c6a9c47c",
   "metadata": {},
   "outputs": [],
   "source": [
    "df['Date'] = dates\n",
    "df.set_index('Date', inplace=True)"
   ]
  },
  {
   "cell_type": "code",
   "execution_count": 6,
   "id": "d1c52e19",
   "metadata": {},
   "outputs": [
    {
     "data": {
      "text/html": [
       "<div>\n",
       "<style scoped>\n",
       "    .dataframe tbody tr th:only-of-type {\n",
       "        vertical-align: middle;\n",
       "    }\n",
       "\n",
       "    .dataframe tbody tr th {\n",
       "        vertical-align: top;\n",
       "    }\n",
       "\n",
       "    .dataframe thead th {\n",
       "        text-align: right;\n",
       "    }\n",
       "</style>\n",
       "<table border=\"1\" class=\"dataframe\">\n",
       "  <thead>\n",
       "    <tr style=\"text-align: right;\">\n",
       "      <th></th>\n",
       "      <th>Thousands of Passengers</th>\n",
       "    </tr>\n",
       "    <tr>\n",
       "      <th>Date</th>\n",
       "      <th></th>\n",
       "    </tr>\n",
       "  </thead>\n",
       "  <tbody>\n",
       "    <tr>\n",
       "      <th>1949-01-01</th>\n",
       "      <td>112</td>\n",
       "    </tr>\n",
       "    <tr>\n",
       "      <th>1949-02-01</th>\n",
       "      <td>118</td>\n",
       "    </tr>\n",
       "    <tr>\n",
       "      <th>1949-03-01</th>\n",
       "      <td>132</td>\n",
       "    </tr>\n",
       "    <tr>\n",
       "      <th>1949-04-01</th>\n",
       "      <td>129</td>\n",
       "    </tr>\n",
       "    <tr>\n",
       "      <th>1949-05-01</th>\n",
       "      <td>121</td>\n",
       "    </tr>\n",
       "    <tr>\n",
       "      <th>...</th>\n",
       "      <td>...</td>\n",
       "    </tr>\n",
       "    <tr>\n",
       "      <th>1960-08-01</th>\n",
       "      <td>606</td>\n",
       "    </tr>\n",
       "    <tr>\n",
       "      <th>1960-09-01</th>\n",
       "      <td>508</td>\n",
       "    </tr>\n",
       "    <tr>\n",
       "      <th>1960-10-01</th>\n",
       "      <td>461</td>\n",
       "    </tr>\n",
       "    <tr>\n",
       "      <th>1960-11-01</th>\n",
       "      <td>390</td>\n",
       "    </tr>\n",
       "    <tr>\n",
       "      <th>1960-12-01</th>\n",
       "      <td>432</td>\n",
       "    </tr>\n",
       "  </tbody>\n",
       "</table>\n",
       "<p>144 rows × 1 columns</p>\n",
       "</div>"
      ],
      "text/plain": [
       "            Thousands of Passengers\n",
       "Date                               \n",
       "1949-01-01                      112\n",
       "1949-02-01                      118\n",
       "1949-03-01                      132\n",
       "1949-04-01                      129\n",
       "1949-05-01                      121\n",
       "...                             ...\n",
       "1960-08-01                      606\n",
       "1960-09-01                      508\n",
       "1960-10-01                      461\n",
       "1960-11-01                      390\n",
       "1960-12-01                      432\n",
       "\n",
       "[144 rows x 1 columns]"
      ]
     },
     "execution_count": 6,
     "metadata": {},
     "output_type": "execute_result"
    }
   ],
   "source": [
    "df"
   ]
  },
  {
   "cell_type": "code",
   "execution_count": 7,
   "id": "f15b8953",
   "metadata": {},
   "outputs": [],
   "source": [
    "import torch\n",
    "import torch.nn as nn\n",
    "from torch.autograd import Variable\n",
    "from sklearn.preprocessing import MinMaxScaler"
   ]
  },
  {
   "cell_type": "code",
   "execution_count": 8,
   "id": "595345bb",
   "metadata": {},
   "outputs": [],
   "source": [
    "data=df.iloc[:,0:1].values"
   ]
  },
  {
   "cell_type": "code",
   "execution_count": 9,
   "id": "f586d251",
   "metadata": {},
   "outputs": [],
   "source": [
    "def sliding_windows(data,seq_length):\n",
    "    x=[]\n",
    "    y=[]\n",
    "    \n",
    "    for i in range(len(data)-seq_length-1):\n",
    "        _x=data[i:i+seq_length]\n",
    "        _y=data[i+seq_length]\n",
    "        x.append(_x)\n",
    "        y.append(_y)\n",
    "    return np.array(x),np.array(y)"
   ]
  },
  {
   "cell_type": "code",
   "execution_count": 10,
   "id": "7295be3e",
   "metadata": {},
   "outputs": [],
   "source": [
    "norm=MinMaxScaler()\n",
    "training_data=norm.fit_transform(data)"
   ]
  },
  {
   "cell_type": "code",
   "execution_count": 11,
   "id": "0abe8bac",
   "metadata": {},
   "outputs": [],
   "source": [
    "seq_length=4\n",
    "x,y=sliding_windows(training_data,seq_length)"
   ]
  },
  {
   "cell_type": "code",
   "execution_count": 12,
   "id": "276806a6",
   "metadata": {},
   "outputs": [],
   "source": [
    "train_size=int(len(y)*0.8)\n",
    "test_size=len(y)-train_size"
   ]
  },
  {
   "cell_type": "code",
   "execution_count": 13,
   "id": "1d0be236",
   "metadata": {},
   "outputs": [],
   "source": [
    "data_new1=Variable(torch.Tensor(x))\n",
    "data_new2=Variable(torch.Tensor(y))\n",
    "\n",
    "train1=Variable(torch.Tensor(x[:train_size]))\n",
    "train2=Variable(torch.Tensor(y[:train_size]))\n",
    "\n",
    "test1=Variable(torch.Tensor(x[train_size:]))\n",
    "test2=Variable(torch.Tensor(y[train_size:]))"
   ]
  },
  {
   "cell_type": "code",
   "execution_count": 14,
   "id": "06810935",
   "metadata": {},
   "outputs": [
    {
     "data": {
      "text/plain": [
       "torch.Size([111, 4, 1])"
      ]
     },
     "execution_count": 14,
     "metadata": {},
     "output_type": "execute_result"
    }
   ],
   "source": [
    "train1.shape"
   ]
  },
  {
   "cell_type": "code",
   "execution_count": 20,
   "id": "6c9b0ae1",
   "metadata": {},
   "outputs": [],
   "source": [
    "class LSTM(nn.Module):\n",
    "    def __init__(self,num_classes,input_size,hidden_size,num_layers):\n",
    "        super(LSTM,self).__init__()\n",
    "        \n",
    "        self.num_classes = num_classes\n",
    "        self.num_layers = num_layers\n",
    "        self.input_size = input_size\n",
    "        self.hidden_size = hidden_size\n",
    "        self.seq_length = seq_length\n",
    "        \n",
    "        self.lstm=nn.LSTM(input_size=input_size,hidden_size=hidden_size,num_layers=num_layers,batch_first=True)\n",
    "        self.fc=nn.Linear(hidden_size,1)\n",
    "    \n",
    "    def forward(self,x):\n",
    "        h_0=Variable(torch.zeros(1,x.size(0),hidden_size))\n",
    "        c_0=Variable(torch.zeros(1,x.size(0),hidden_size))\n",
    "        \n",
    "        output,(hn,cn)=self.lstm(x,(h_0,c_0))\n",
    "        hn=hn.view(-1,hidden_size)\n",
    "        out=self.fc(hn)\n",
    "        \n",
    "        return out"
   ]
  },
  {
   "cell_type": "code",
   "execution_count": 21,
   "id": "a53fccad",
   "metadata": {},
   "outputs": [],
   "source": [
    "num_classes=1\n",
    "input_size=1\n",
    "hidden_size=8\n",
    "num_layers=1"
   ]
  },
  {
   "cell_type": "code",
   "execution_count": 22,
   "id": "c31a0499",
   "metadata": {},
   "outputs": [],
   "source": [
    "model=LSTM(num_classes,input_size,hidden_size,num_layers)\n",
    "criteon = nn.MSELoss()\n",
    "optimizer = optim.Adam(model.parameters(), lr=0.01)"
   ]
  },
  {
   "cell_type": "code",
   "execution_count": 23,
   "id": "f38ae351",
   "metadata": {
    "scrolled": true
   },
   "outputs": [
    {
     "name": "stdout",
     "output_type": "stream",
     "text": [
      "0 loss: 0.2741676867008209\n",
      "100 loss: 0.0053544677793979645\n",
      "200 loss: 0.004094713367521763\n",
      "300 loss: 0.003021764801815152\n",
      "400 loss: 0.0026343970093876123\n",
      "500 loss: 0.002297551603987813\n",
      "600 loss: 0.002181166782975197\n",
      "700 loss: 0.002143577206879854\n",
      "800 loss: 0.002119495067745447\n",
      "900 loss: 0.0020967917516827583\n"
     ]
    }
   ],
   "source": [
    "for i in range(1000):\n",
    "    model.train()\n",
    "    output=model(train1)\n",
    "    optimizer.zero_grad()\n",
    "    \n",
    "    loss = criteon(output, train2)\n",
    "    loss.backward()\n",
    "    optimizer.step()\n",
    "    if i%100==0:\n",
    "        print(i, 'loss:', loss.item())"
   ]
  },
  {
   "cell_type": "code",
   "execution_count": 24,
   "id": "f71116dc",
   "metadata": {},
   "outputs": [
    {
     "data": {
      "image/png": "[encoded data removed]",
      "text/plain": [
       "<Figure size 432x288 with 1 Axes>"
      ]
     },
     "metadata": {
      "needs_background": "light"
     },
     "output_type": "display_data"
    }
   ],
   "source": [
    "model.eval()\n",
    "tarin_predict=model(data_new1)\n",
    "\n",
    "data_predict=tarin_predict.detach().numpy()\n",
    "data_plot=data_new2.detach().numpy()\n",
    "\n",
    "data_predict=norm.inverse_transform(data_predict)\n",
    "data_plot=norm.inverse_transform(data_plot)\n",
    "\n",
    "plt.plot(data_plot)\n",
    "plt.plot(data_predict)\n",
    "plt.show()"
   ]
  },
  {
   "cell_type": "code",
   "execution_count": null,
   "id": "8ffc73ab",
   "metadata": {},
   "outputs": [],
   "source": []
  },
  {
   "cell_type": "code",
   "execution_count": null,
   "id": "5deda7aa",
   "metadata": {},
   "outputs": [],
   "source": []
  }
 ],
 "metadata": {
  "kernelspec": {
   "display_name": "Python 3 (ipykernel)",
   "language": "python",
   "name": "python3"
  },
  "language_info": {
   "codemirror_mode": {
    "name": "ipython",
    "version": 3
   },
   "file_extension": ".py",
   "mimetype": "text/x-python",
   "name": "python",
   "nbconvert_exporter": "python",
   "pygments_lexer": "ipython3",
   "version": "3.9.7"
  }
 },
 "nbformat": 4,
 "nbformat_minor": 5
}
